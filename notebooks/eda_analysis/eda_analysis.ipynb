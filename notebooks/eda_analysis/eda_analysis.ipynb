{
 "cells": [
  {
   "cell_type": "markdown",
   "metadata": {},
   "source": [
    "### Analyse Exploratoire des Données (EDA) pour les données TSLA"
   ]
  },
  {
   "cell_type": "code",
   "execution_count": 16,
   "metadata": {},
   "outputs": [],
   "source": [
    "import pandas as pd\n",
    "import numpy as np\n",
    "import seaborn as sns\n",
    "import plotly.express as px\n",
    "import plotly.graph_objects as go\n",
    "from plotly.subplots import make_subplots\n",
    "import matplotlib.pyplot as plt\n",
    "from datetime import datetime"
   ]
  },
  {
   "cell_type": "code",
   "execution_count": 17,
   "metadata": {},
   "outputs": [],
   "source": [
    "# Configuration du style\n",
    "plt.style.use('seaborn-v0_8')  # Style valide de matplotlib\n",
    "sns.set_theme(style=\"whitegrid\")"
   ]
  },
  {
   "cell_type": "code",
   "execution_count": 19,
   "metadata": {},
   "outputs": [],
   "source": [
    "def load_data(file_path):\n",
    "    \"\"\"Charge et prépare les données\"\"\"\n",
    "    # Lecture du CSV en sautant les 2 premières lignes d'en-tête\n",
    "    df = pd.read_csv(file_path, skiprows=2)\n",
    "    \n",
    "    # Affichage des colonnes pour déboguer\n",
    "    print(\"Colonnes disponibles:\", df.columns.tolist())\n",
    "    \n",
    "    # Renommer les colonnes selon la structure du fichier\n",
    "    df.columns = ['Date', 'Close', 'High', 'Low', 'Open', 'Volume']\n",
    "    \n",
    "    # Conversion de la colonne Date en datetime\n",
    "    df['Date'] = pd.to_datetime(df['Date'])\n",
    "    \n",
    "    # Définition de Date comme index\n",
    "    df.set_index('Date', inplace=True)\n",
    "    \n",
    "    # Vérification des colonnes\n",
    "    required_columns = ['Close', 'Open', 'High', 'Low', 'Volume']\n",
    "    missing_columns = [col for col in required_columns if col not in df.columns]\n",
    "    if missing_columns:\n",
    "        raise ValueError(f\"Colonnes manquantes dans le DataFrame: {missing_columns}\")\n",
    "    \n",
    "    return df"
   ]
  },
  {
   "cell_type": "code",
   "execution_count": 20,
   "metadata": {},
   "outputs": [],
   "source": [
    "# 1. Analyse de la volatilité\n",
    "def calculate_volatility(df, window=20):\n",
    "    \"\"\"Calcule la volatilité sur une fenêtre glissante\"\"\"\n",
    "    returns = df['Close'].pct_change()\n",
    "    volatility = returns.rolling(window=window).std() * np.sqrt(252)  # Annualisée\n",
    "    return volatility"
   ]
  },
  {
   "cell_type": "code",
   "execution_count": 21,
   "metadata": {},
   "outputs": [],
   "source": [
    "# 2. Calcul des rendements\n",
    "def calculate_returns(df):\n",
    "    \"\"\"Calcule les rendements journaliers et cumulés\"\"\"\n",
    "    daily_returns = df['Close'].pct_change()\n",
    "    cumulative_returns = (1 + daily_returns).cumprod()\n",
    "    return daily_returns, cumulative_returns"
   ]
  },
  {
   "cell_type": "code",
   "execution_count": 22,
   "metadata": {},
   "outputs": [],
   "source": [
    "# 3. Analyse des tendances\n",
    "def analyze_trends(df):\n",
    "    \"\"\"Analyse les tendances avec les moyennes mobiles\"\"\"\n",
    "    df['SMA_20'] = df['Close'].rolling(window=20).mean()\n",
    "    df['SMA_50'] = df['Close'].rolling(window=50).mean()\n",
    "    return df"
   ]
  },
  {
   "cell_type": "code",
   "execution_count": 23,
   "metadata": {},
   "outputs": [],
   "source": [
    "# 4. Analyse du volume\n",
    "def analyze_volume(df):\n",
    "    \"\"\"Analyse le volume et sa relation avec le prix\"\"\"\n",
    "    volume_ma = df['Volume'].rolling(window=20).mean()\n",
    "    return volume_ma"
   ]
  },
  {
   "cell_type": "code",
   "execution_count": 24,
   "metadata": {},
   "outputs": [],
   "source": [
    "# Exécution des analyses\n",
    "def main(df):\n",
    "    # Calcul des métriques\n",
    "    volatility = calculate_volatility(df)\n",
    "    daily_returns, cumulative_returns = calculate_returns(df)\n",
    "    df = analyze_trends(df)\n",
    "    volume_ma = analyze_volume(df)\n",
    "\n",
    "    # 1. Graphique des prix et volumes\n",
    "    fig = make_subplots(rows=2, cols=1, shared_xaxes=True, \n",
    "                       vertical_spacing=0.03, \n",
    "                       row_heights=[0.7, 0.3])\n",
    "\n",
    "    fig.add_trace(go.Candlestick(x=df.index,\n",
    "                                open=df['Open'],\n",
    "                                high=df['High'],\n",
    "                                low=df['Low'],\n",
    "                                close=df['Close'],\n",
    "                                name='OHLC'),\n",
    "                  row=1, col=1)\n",
    "\n",
    "    fig.add_trace(go.Scatter(x=df.index, y=df['SMA_20'],\n",
    "                            name='SMA 20',\n",
    "                            line=dict(color='orange')),\n",
    "                  row=1, col=1)\n",
    "\n",
    "    fig.add_trace(go.Scatter(x=df.index, y=df['SMA_50'],\n",
    "                            name='SMA 50',\n",
    "                            line=dict(color='blue')),\n",
    "                  row=1, col=1)\n",
    "\n",
    "    fig.add_trace(go.Bar(x=df.index, y=df['Volume'],\n",
    "                        name='Volume'),\n",
    "                  row=2, col=1)\n",
    "\n",
    "    fig.update_layout(\n",
    "        title='Analyse Technique TSLA',\n",
    "        yaxis_title='Prix ($)',\n",
    "        yaxis2_title='Volume',\n",
    "        xaxis_rangeslider_visible=False\n",
    "    )\n",
    "\n",
    "    # Sauvegarde du graphique\n",
    "    fig.write_html('../../notebooks/eda_analysis/tsla_analysis.html')\n",
    "\n",
    "    # 2. Distribution des rendements\n",
    "    plt.figure(figsize=(12, 6))\n",
    "    sns.histplot(daily_returns.dropna(), bins=50, kde=True)\n",
    "    plt.title('Distribution des Rendements Journaliers')\n",
    "    plt.xlabel('Rendement')\n",
    "    plt.ylabel('Fréquence')\n",
    "    plt.savefig('../../notebooks/eda_analysis/returns_distribution.png')\n",
    "    plt.close()\n",
    "\n",
    "    # 3. Volatilité\n",
    "    plt.figure(figsize=(12, 6))\n",
    "    volatility.plot()\n",
    "    plt.title('Volatilité sur 20 jours')\n",
    "    plt.xlabel('Date')\n",
    "    plt.ylabel('Volatilité')\n",
    "    plt.savefig('../../notebooks/eda_analysis/volatility.png')\n",
    "    plt.close()\n",
    "\n",
    "    # Statistiques descriptives\n",
    "    stats = pd.DataFrame({\n",
    "        'Statistique': [\n",
    "            'Prix moyen',\n",
    "            'Volatilité moyenne',\n",
    "            'Rendement moyen journalier',\n",
    "            'Rendement total',\n",
    "            'Volume moyen',\n",
    "            'Ratio de Sharpe (annualisé)'\n",
    "        ],\n",
    "        'Valeur': [\n",
    "            df['Close'].mean(),\n",
    "            volatility.mean(),\n",
    "            daily_returns.mean(),\n",
    "            (cumulative_returns.iloc[-1] - 1) * 100,\n",
    "            df['Volume'].mean(),\n",
    "            (daily_returns.mean() / daily_returns.std()) * np.sqrt(252)\n",
    "        ]\n",
    "    })\n",
    "    \n",
    "    stats.to_csv('../../notebooks/eda_analysis/statistics.csv', index=False)\n"
   ]
  },
  {
   "cell_type": "code",
   "execution_count": 25,
   "metadata": {},
   "outputs": [
    {
     "name": "stdout",
     "output_type": "stream",
     "text": [
      "Colonnes disponibles: ['Date', 'Unnamed: 1', 'Unnamed: 2', 'Unnamed: 3', 'Unnamed: 4', 'Unnamed: 5']\n"
     ]
    }
   ],
   "source": [
    "if __name__ == \"__main__\":\n",
    "    # Chargement des données\n",
    "    df = load_data('../../data/raw/tsla.csv')\n",
    "    \n",
    "    # Exécution de l'analyse\n",
    "    main(df) "
   ]
  }
 ],
 "metadata": {
  "kernelspec": {
   "display_name": "venv",
   "language": "python",
   "name": "python3"
  },
  "language_info": {
   "codemirror_mode": {
    "name": "ipython",
    "version": 3
   },
   "file_extension": ".py",
   "mimetype": "text/x-python",
   "name": "python",
   "nbconvert_exporter": "python",
   "pygments_lexer": "ipython3",
   "version": "3.13.2"
  }
 },
 "nbformat": 4,
 "nbformat_minor": 2
}
